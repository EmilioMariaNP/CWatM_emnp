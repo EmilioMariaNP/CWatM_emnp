{
 "cells": [
  {
   "cell_type": "code",
   "execution_count": 1,
   "id": "d8fcce29",
   "metadata": {},
   "outputs": [],
   "source": [
    "# User- and simulation specific inputs\n",
    "\n",
    "numOfDays = 365\n",
    "everyNDays = 365\n",
    "startDay = 1\n",
    "output_folder = r'C:\\Users\\smilovic\\OneDrive - IIASA\\projects\\SOS\\Danube\\output_ms_watercircle'\n",
    "\n",
    "# Location of simulation area\n",
    "latitude = 17.9114 \n",
    "longitude = 75.0075\n",
    "\n",
    "# Primary Options\n",
    "withCrops = False\n",
    "numberOfCrops = 18\n",
    "limitAbstraction = True\n",
    "Modflow = False\n",
    "reservoir_transfers = False\n",
    "\n",
    "# Secondary options\n",
    "dark = True\n",
    "Excel = False\n",
    "sectorSourceAbstractionFractions = True\n",
    "israel_model = False\n",
    "dis_outlet = True\n",
    "withdrawals = True\n",
    "consumption = True\n",
    "regularGrid = False"
   ]
  },
  {
   "cell_type": "code",
   "execution_count": 4,
   "id": "693deba6",
   "metadata": {},
   "outputs": [
    {
     "data": {
      "text/html": [
       "<style>.container { width:100% !important; }</style>"
      ],
      "text/plain": [
       "<IPython.core.display.HTML object>"
      ]
     },
     "metadata": {},
     "output_type": "display_data"
    },
    {
     "name": "stdout",
     "output_type": "stream",
     "text": [
      "Loading the following variables:\n",
      "storGroundwater\n",
      "storGroundwater\n",
      "sum_capRiseFromGW\n",
      "sum_capRiseFromGW\n",
      "sum_capRiseFromGW\n",
      "sum_capRiseFromGW\n",
      "nonFossilGroundwaterAbs\n",
      "nonFossilGroundwaterAbs\n",
      "Rain\n",
      "Snow\n",
      "totalET\n",
      "EvapoChannel\n",
      "EvapWaterBodyM\n",
      "act_nonIrrConsumption\n",
      "channelStorage\n",
      "lakeResStorage\n",
      "totalSto\n",
      "unmet_lost\n",
      "sum_actTransTotal\n",
      "actTransTotal_forest\n",
      "actTransTotal_grasslands\n",
      "actTransTotal_paddy\n",
      "actTransTotal_nonpaddy\n",
      "sum_actBareSoilEvap\n",
      "sum_interceptEvap\n",
      "sum_openWaterEvap\n",
      "addtoevapotrans\n",
      "snowEvap\n",
      "lakeResInflowM\n",
      "EvapWaterBodyM\n",
      "act_bigLakeResAbst\n",
      "lakeResOutflowM\n",
      "lakeResStorage\n",
      "baseflow\n",
      "Rain\n",
      "Snow\n",
      "act_totalIrrConsumption\n",
      "sum_actTransTotal\n",
      "sum_actBareSoilEvap\n",
      "sum_interceptEvap\n",
      "sum_openWaterEvap\n",
      "sum_runoff\n",
      "sum_gwRecharge\n",
      "snowEvap\n",
      "totalSto\n",
      "prefFlow_GW\n",
      "perc3toGW_GW\n",
      "act_domConsumption\n",
      "act_indConsumption\n",
      "act_livConsumption\n",
      "act_nonpaddyConsumption\n",
      "act_paddyConsumption\n",
      "addtoevapotrans\n",
      "returnflowIrr\n",
      "returnflowNonIrr\n",
      "unmet_lost\n",
      "act_SurfaceWaterAbstract\n",
      "dis_outlet\n",
      "act_irrWithdrawal\n",
      "act_nonIrrWithdrawal\n",
      "Channel_Domestic\n",
      "Channel_Livestock\n",
      "Channel_Industry\n",
      "Lake_Domestic\n",
      "Lake_Livestock\n",
      "Lake_Industry\n",
      "Res_Domestic\n",
      "Res_Livestock\n",
      "Res_Industry\n",
      "GW_Domestic\n",
      "GW_Livestock\n",
      "GW_Industry\n",
      "Channel_Irrigation\n",
      "Lake_Irrigation\n",
      "Res_Irrigation\n",
      "GW_Irrigation\n"
     ]
    },
    {
     "ename": "ValueError",
     "evalue": "operands could not be broadcast together with shapes (365,) (1459,) (365,) ",
     "output_type": "error",
     "traceback": [
      "\u001b[1;31m---------------------------------------------------------------------------\u001b[0m",
      "\u001b[1;31mValueError\u001b[0m                                Traceback (most recent call last)",
      "File \u001b[1;32m~\\AppData\\Local\\Temp\\ipykernel_22288\\2960504334.py:127\u001b[0m\n\u001b[0;32m    123\u001b[0m         colors_simple\u001b[38;5;241m.\u001b[39mappend(\u001b[38;5;124m'\u001b[39m\u001b[38;5;124mpositive\u001b[39m\u001b[38;5;124m'\u001b[39m \u001b[38;5;28;01mif\u001b[39;00m VAR[\u001b[38;5;241m1\u001b[39m] \u001b[38;5;241m==\u001b[39m \u001b[38;5;124m'\u001b[39m\u001b[38;5;124mInputs\u001b[39m\u001b[38;5;124m'\u001b[39m \u001b[38;5;28;01melse\u001b[39;00m \u001b[38;5;124m'\u001b[39m\u001b[38;5;124mnegative\u001b[39m\u001b[38;5;124m'\u001b[39m)\n\u001b[0;32m    126\u001b[0m     VAR[\u001b[38;5;241m2\u001b[39m]\u001b[38;5;241m.\u001b[39mappend(np\u001b[38;5;241m.\u001b[39msum(Y)) \u001b[38;5;66;03m# Sum of a single variable, over the simulation period\u001b[39;00m\n\u001b[1;32m--> 127\u001b[0m     \u001b[43mVAR\u001b[49m\u001b[43m[\u001b[49m\u001b[38;5;241;43m5\u001b[39;49m\u001b[43m]\u001b[49m\u001b[43m \u001b[49m\u001b[38;5;241;43m+\u001b[39;49m\u001b[38;5;241;43m=\u001b[39;49m\u001b[43m \u001b[49m\u001b[43mY\u001b[49m              \u001b[38;5;66;03m# The daily total sum for all variables of a type: Inputs, Outputs, Change\u001b[39;00m\n\u001b[0;32m    130\u001b[0m     fig_Waterscape\u001b[38;5;241m.\u001b[39madd_trace(go\u001b[38;5;241m.\u001b[39mBar(\n\u001b[0;32m    131\u001b[0m         y \u001b[38;5;241m=\u001b[39m Y\u001b[38;5;241m*\u001b[39mVAR[\u001b[38;5;241m3\u001b[39m],\n\u001b[0;32m    132\u001b[0m         x \u001b[38;5;241m=\u001b[39m X,\n\u001b[0;32m    133\u001b[0m         name \u001b[38;5;241m=\u001b[39m Var[\u001b[38;5;241m0\u001b[39m]\u001b[38;5;241m+\u001b[39mVAR[\u001b[38;5;241m4\u001b[39m]))\n\u001b[0;32m    136\u001b[0m line \u001b[38;5;241m=\u001b[39m go\u001b[38;5;241m.\u001b[39mScatter(x\u001b[38;5;241m=\u001b[39mX, y\u001b[38;5;241m=\u001b[39mY_select[\u001b[38;5;241m0\u001b[39m][\u001b[38;5;241m0\u001b[39m])\n",
      "\u001b[1;31mValueError\u001b[0m: operands could not be broadcast together with shapes (365,) (1459,) (365,) "
     ]
    },
    {
     "ename": "ValueError",
     "evalue": "operands could not be broadcast together with shapes (365,) (1459,) (365,) ",
     "output_type": "error",
     "traceback": [
      "\u001b[1;31m---------------------------------------------------------------------------\u001b[0m",
      "\u001b[1;31mValueError\u001b[0m                                Traceback (most recent call last)",
      "Cell \u001b[1;32mIn[4], line 1\u001b[0m\n\u001b[1;32m----> 1\u001b[0m \u001b[43mget_ipython\u001b[49m\u001b[43m(\u001b[49m\u001b[43m)\u001b[49m\u001b[38;5;241;43m.\u001b[39;49m\u001b[43mrun_line_magic\u001b[49m\u001b[43m(\u001b[49m\u001b[38;5;124;43m'\u001b[39;49m\u001b[38;5;124;43mrun\u001b[39;49m\u001b[38;5;124;43m'\u001b[39;49m\u001b[43m,\u001b[49m\u001b[43m \u001b[49m\u001b[38;5;124;43m'\u001b[39;49m\u001b[38;5;124;43m./functions/functions_Waves.ipynb\u001b[39;49m\u001b[38;5;124;43m'\u001b[39;49m\u001b[43m)\u001b[49m\n",
      "File \u001b[1;32m~\\AppData\\Local\\Programs\\Python\\Python311\\Lib\\site-packages\\IPython\\core\\interactiveshell.py:2364\u001b[0m, in \u001b[0;36mInteractiveShell.run_line_magic\u001b[1;34m(self, magic_name, line, _stack_depth)\u001b[0m\n\u001b[0;32m   2362\u001b[0m     kwargs[\u001b[38;5;124m'\u001b[39m\u001b[38;5;124mlocal_ns\u001b[39m\u001b[38;5;124m'\u001b[39m] \u001b[38;5;241m=\u001b[39m \u001b[38;5;28mself\u001b[39m\u001b[38;5;241m.\u001b[39mget_local_scope(stack_depth)\n\u001b[0;32m   2363\u001b[0m \u001b[38;5;28;01mwith\u001b[39;00m \u001b[38;5;28mself\u001b[39m\u001b[38;5;241m.\u001b[39mbuiltin_trap:\n\u001b[1;32m-> 2364\u001b[0m     result \u001b[38;5;241m=\u001b[39m \u001b[43mfn\u001b[49m\u001b[43m(\u001b[49m\u001b[38;5;241;43m*\u001b[39;49m\u001b[43margs\u001b[49m\u001b[43m,\u001b[49m\u001b[43m \u001b[49m\u001b[38;5;241;43m*\u001b[39;49m\u001b[38;5;241;43m*\u001b[39;49m\u001b[43mkwargs\u001b[49m\u001b[43m)\u001b[49m\n\u001b[0;32m   2365\u001b[0m \u001b[38;5;28;01mreturn\u001b[39;00m result\n",
      "File \u001b[1;32m~\\AppData\\Local\\Programs\\Python\\Python311\\Lib\\site-packages\\IPython\\core\\magics\\execution.py:717\u001b[0m, in \u001b[0;36mExecutionMagics.run\u001b[1;34m(self, parameter_s, runner, file_finder)\u001b[0m\n\u001b[0;32m    715\u001b[0m     \u001b[38;5;28;01mwith\u001b[39;00m preserve_keys(\u001b[38;5;28mself\u001b[39m\u001b[38;5;241m.\u001b[39mshell\u001b[38;5;241m.\u001b[39muser_ns, \u001b[38;5;124m'\u001b[39m\u001b[38;5;124m__file__\u001b[39m\u001b[38;5;124m'\u001b[39m):\n\u001b[0;32m    716\u001b[0m         \u001b[38;5;28mself\u001b[39m\u001b[38;5;241m.\u001b[39mshell\u001b[38;5;241m.\u001b[39muser_ns[\u001b[38;5;124m'\u001b[39m\u001b[38;5;124m__file__\u001b[39m\u001b[38;5;124m'\u001b[39m] \u001b[38;5;241m=\u001b[39m filename\n\u001b[1;32m--> 717\u001b[0m         \u001b[38;5;28;43mself\u001b[39;49m\u001b[38;5;241;43m.\u001b[39;49m\u001b[43mshell\u001b[49m\u001b[38;5;241;43m.\u001b[39;49m\u001b[43msafe_execfile_ipy\u001b[49m\u001b[43m(\u001b[49m\u001b[43mfilename\u001b[49m\u001b[43m,\u001b[49m\u001b[43m \u001b[49m\u001b[43mraise_exceptions\u001b[49m\u001b[38;5;241;43m=\u001b[39;49m\u001b[38;5;28;43;01mTrue\u001b[39;49;00m\u001b[43m)\u001b[49m\n\u001b[0;32m    718\u001b[0m     \u001b[38;5;28;01mreturn\u001b[39;00m\n\u001b[0;32m    720\u001b[0m \u001b[38;5;66;03m# Control the response to exit() calls made by the script being run\u001b[39;00m\n",
      "File \u001b[1;32m~\\AppData\\Local\\Programs\\Python\\Python311\\Lib\\site-packages\\IPython\\core\\interactiveshell.py:2870\u001b[0m, in \u001b[0;36mInteractiveShell.safe_execfile_ipy\u001b[1;34m(self, fname, shell_futures, raise_exceptions)\u001b[0m\n\u001b[0;32m   2868\u001b[0m result \u001b[38;5;241m=\u001b[39m \u001b[38;5;28mself\u001b[39m\u001b[38;5;241m.\u001b[39mrun_cell(cell, silent\u001b[38;5;241m=\u001b[39m\u001b[38;5;28;01mTrue\u001b[39;00m, shell_futures\u001b[38;5;241m=\u001b[39mshell_futures)\n\u001b[0;32m   2869\u001b[0m \u001b[38;5;28;01mif\u001b[39;00m raise_exceptions:\n\u001b[1;32m-> 2870\u001b[0m     \u001b[43mresult\u001b[49m\u001b[38;5;241;43m.\u001b[39;49m\u001b[43mraise_error\u001b[49m\u001b[43m(\u001b[49m\u001b[43m)\u001b[49m\n\u001b[0;32m   2871\u001b[0m \u001b[38;5;28;01melif\u001b[39;00m \u001b[38;5;129;01mnot\u001b[39;00m result\u001b[38;5;241m.\u001b[39msuccess:\n\u001b[0;32m   2872\u001b[0m     \u001b[38;5;28;01mbreak\u001b[39;00m\n",
      "File \u001b[1;32m~\\AppData\\Local\\Programs\\Python\\Python311\\Lib\\site-packages\\IPython\\core\\interactiveshell.py:266\u001b[0m, in \u001b[0;36mExecutionResult.raise_error\u001b[1;34m(self)\u001b[0m\n\u001b[0;32m    264\u001b[0m     \u001b[38;5;28;01mraise\u001b[39;00m \u001b[38;5;28mself\u001b[39m\u001b[38;5;241m.\u001b[39merror_before_exec\n\u001b[0;32m    265\u001b[0m \u001b[38;5;28;01mif\u001b[39;00m \u001b[38;5;28mself\u001b[39m\u001b[38;5;241m.\u001b[39merror_in_exec \u001b[38;5;129;01mis\u001b[39;00m \u001b[38;5;129;01mnot\u001b[39;00m \u001b[38;5;28;01mNone\u001b[39;00m:\n\u001b[1;32m--> 266\u001b[0m     \u001b[38;5;28;01mraise\u001b[39;00m \u001b[38;5;28mself\u001b[39m\u001b[38;5;241m.\u001b[39merror_in_exec\n",
      "    \u001b[1;31m[... skipping hidden 1 frame]\u001b[0m\n",
      "File \u001b[1;32m~\\AppData\\Local\\Temp\\ipykernel_22288\\2960504334.py:127\u001b[0m\n\u001b[0;32m    123\u001b[0m         colors_simple\u001b[38;5;241m.\u001b[39mappend(\u001b[38;5;124m'\u001b[39m\u001b[38;5;124mpositive\u001b[39m\u001b[38;5;124m'\u001b[39m \u001b[38;5;28;01mif\u001b[39;00m VAR[\u001b[38;5;241m1\u001b[39m] \u001b[38;5;241m==\u001b[39m \u001b[38;5;124m'\u001b[39m\u001b[38;5;124mInputs\u001b[39m\u001b[38;5;124m'\u001b[39m \u001b[38;5;28;01melse\u001b[39;00m \u001b[38;5;124m'\u001b[39m\u001b[38;5;124mnegative\u001b[39m\u001b[38;5;124m'\u001b[39m)\n\u001b[0;32m    126\u001b[0m     VAR[\u001b[38;5;241m2\u001b[39m]\u001b[38;5;241m.\u001b[39mappend(np\u001b[38;5;241m.\u001b[39msum(Y)) \u001b[38;5;66;03m# Sum of a single variable, over the simulation period\u001b[39;00m\n\u001b[1;32m--> 127\u001b[0m     \u001b[43mVAR\u001b[49m\u001b[43m[\u001b[49m\u001b[38;5;241;43m5\u001b[39;49m\u001b[43m]\u001b[49m\u001b[43m \u001b[49m\u001b[38;5;241;43m+\u001b[39;49m\u001b[38;5;241;43m=\u001b[39;49m\u001b[43m \u001b[49m\u001b[43mY\u001b[49m              \u001b[38;5;66;03m# The daily total sum for all variables of a type: Inputs, Outputs, Change\u001b[39;00m\n\u001b[0;32m    130\u001b[0m     fig_Waterscape\u001b[38;5;241m.\u001b[39madd_trace(go\u001b[38;5;241m.\u001b[39mBar(\n\u001b[0;32m    131\u001b[0m         y \u001b[38;5;241m=\u001b[39m Y\u001b[38;5;241m*\u001b[39mVAR[\u001b[38;5;241m3\u001b[39m],\n\u001b[0;32m    132\u001b[0m         x \u001b[38;5;241m=\u001b[39m X,\n\u001b[0;32m    133\u001b[0m         name \u001b[38;5;241m=\u001b[39m Var[\u001b[38;5;241m0\u001b[39m]\u001b[38;5;241m+\u001b[39mVAR[\u001b[38;5;241m4\u001b[39m]))\n\u001b[0;32m    136\u001b[0m line \u001b[38;5;241m=\u001b[39m go\u001b[38;5;241m.\u001b[39mScatter(x\u001b[38;5;241m=\u001b[39mX, y\u001b[38;5;241m=\u001b[39mY_select[\u001b[38;5;241m0\u001b[39m][\u001b[38;5;241m0\u001b[39m])\n",
      "\u001b[1;31mValueError\u001b[0m: operands could not be broadcast together with shapes (365,) (1459,) (365,) "
     ]
    }
   ],
   "source": [
    "run ./functions/functions_Waves.ipynb"
   ]
  },
  {
   "cell_type": "code",
   "execution_count": null,
   "id": "ad0d93ef",
   "metadata": {},
   "outputs": [],
   "source": []
  }
 ],
 "metadata": {
  "kernelspec": {
   "display_name": "Python 3 (ipykernel)",
   "language": "python",
   "name": "python3"
  },
  "language_info": {
   "codemirror_mode": {
    "name": "ipython",
    "version": 3
   },
   "file_extension": ".py",
   "mimetype": "text/x-python",
   "name": "python",
   "nbconvert_exporter": "python",
   "pygments_lexer": "ipython3",
   "version": "3.11.0"
  }
 },
 "nbformat": 4,
 "nbformat_minor": 5
}
