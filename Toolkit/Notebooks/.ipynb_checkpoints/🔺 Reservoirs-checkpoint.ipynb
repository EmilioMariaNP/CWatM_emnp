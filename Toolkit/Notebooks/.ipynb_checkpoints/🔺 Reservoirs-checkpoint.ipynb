{
 "cells": [
  {
   "cell_type": "markdown",
   "metadata": {
    "extensions": {
     "jupyter_dashboards": {
      "version": 1,
      "views": {
       "grid_default": {},
       "report_default": {
        "hidden": false
       }
      }
     }
    }
   },
   "source": [
    "# Reservoirs\n",
    "\n",
    "\n",
    "Reservoir operations include releasing water to satisfy demands within associated command areas and releasing water downstream. Demand-related releases are determined by matching demand requests up to a maximum. The requests to the reservoir are the total of irrigation and non-irrigation water demands within the command area of the associated reservoir. The maximum allowable releases are reservoir and day-speicific. There are 47 Managed and 215 unmanaged waterbodies are included in the Bhima example.\n",
    "\n",
    "#### Player's guide for the Bhima basin:\n",
    "✔️ update the file path below <br>\n",
    "⏩ Run with the black and white fast-forward icon above.\n"
   ]
  },
  {
   "cell_type": "code",
   "execution_count": 1,
   "metadata": {},
   "outputs": [],
   "source": [
    "output_folder = r'P:/watmodel/CWATM/modelruns/norway_1km/output_MS'"
   ]
  },
  {
   "cell_type": "code",
   "execution_count": 3,
   "metadata": {},
   "outputs": [],
   "source": [
    "run functions/functions_Maps.ipynb"
   ]
  },
  {
   "cell_type": "code",
   "execution_count": 4,
   "metadata": {},
   "outputs": [
    {
     "ename": "FileNotFoundError",
     "evalue": "[Errno 2] No such file or directory: b'P:/watmodel/CWATM/modelruns/norway_1km/output_MS/waterBodyID_totalend.nc'",
     "output_type": "error",
     "traceback": [
      "\u001b[1;31m---------------------------------------------------------------------------\u001b[0m",
      "\u001b[1;31mFileNotFoundError\u001b[0m                         Traceback (most recent call last)",
      "Cell \u001b[1;32mIn[4], line 1\u001b[0m\n\u001b[1;32m----> 1\u001b[0m \u001b[43mdisplay_map_noTime\u001b[49m\u001b[43m(\u001b[49m\u001b[38;5;124;43m'\u001b[39;49m\u001b[38;5;124;43mwaterBodyID_totalend\u001b[39;49m\u001b[38;5;124;43m'\u001b[39;49m\u001b[43m,\u001b[49m\u001b[43m  \u001b[49m\u001b[38;5;241;43m-\u001b[39;49m\u001b[38;5;241;43m1\u001b[39;49m\u001b[43m,\u001b[49m\u001b[43m \u001b[49m\u001b[43mdensity\u001b[49m\u001b[38;5;241;43m=\u001b[39;49m\u001b[38;5;28;43;01mTrue\u001b[39;49;00m\u001b[43m,\u001b[49m\u001b[43m \u001b[49m\u001b[43mcolourScale\u001b[49m\u001b[38;5;241;43m=\u001b[39;49m\u001b[38;5;124;43m\"\u001b[39;49m\u001b[38;5;124;43magsunset\u001b[39;49m\u001b[38;5;124;43m\"\u001b[39;49m\u001b[43m,\u001b[49m\u001b[43m \u001b[49m\u001b[43mRad\u001b[49m\u001b[38;5;241;43m=\u001b[39;49m\u001b[38;5;241;43m3\u001b[39;49m\u001b[43m,\u001b[49m\u001b[43m \u001b[49m\u001b[43mdark\u001b[49m\u001b[38;5;241;43m=\u001b[39;49m\u001b[38;5;28;43;01mFalse\u001b[39;49;00m\u001b[43m,\u001b[49m\u001b[43m \u001b[49m\u001b[43mdaySum\u001b[49m\u001b[43m \u001b[49m\u001b[38;5;241;43m=\u001b[39;49m\u001b[43m \u001b[49m\u001b[38;5;28;43;01mTrue\u001b[39;49;00m\u001b[43m,\u001b[49m\u001b[43m \u001b[49m\u001b[43mcolourRange\u001b[49m\u001b[38;5;241;43m=\u001b[39;49m\u001b[43m[\u001b[49m\u001b[38;5;241;43m0\u001b[39;49m\u001b[43m,\u001b[49m\u001b[38;5;241;43m1\u001b[39;49m\u001b[43m]\u001b[49m\u001b[43m,\u001b[49m\u001b[43m \u001b[49m\u001b[43moutputFolder\u001b[49m\u001b[43m \u001b[49m\u001b[38;5;241;43m=\u001b[39;49m\u001b[43m \u001b[49m\u001b[43moutput_folder\u001b[49m\u001b[43m)\u001b[49m \u001b[38;5;66;03m#'C:\\CWatM_output' _Examples\\CWatM_output_06Sept_mswep') #)2.6) #colourScale='balance_r'\u001b[39;00m\n",
      "File \u001b[1;32m~\\AppData\\Local\\Temp\\ipykernel_22320\\3755099382.py:9\u001b[0m, in \u001b[0;36mdisplay_map_noTime\u001b[1;34m(var_name, day, day2, density, dark, daySum, colourScale, Rad, invert, outputFolder, colourRange, compare)\u001b[0m\n\u001b[0;32m      5\u001b[0m \u001b[38;5;28;01mdef\u001b[39;00m \u001b[38;5;21mdisplay_map_noTime\u001b[39m(var_name, day, day2\u001b[38;5;241m=\u001b[39m\u001b[38;5;28;01mNone\u001b[39;00m, density\u001b[38;5;241m=\u001b[39m\u001b[38;5;28;01mTrue\u001b[39;00m, dark\u001b[38;5;241m=\u001b[39m\u001b[38;5;28;01mTrue\u001b[39;00m, daySum\u001b[38;5;241m=\u001b[39m\u001b[38;5;28;01mNone\u001b[39;00m, colourScale\u001b[38;5;241m=\u001b[39m\u001b[38;5;28;01mNone\u001b[39;00m, Rad\u001b[38;5;241m=\u001b[39m\u001b[38;5;241m1\u001b[39m, invert\u001b[38;5;241m=\u001b[39m\u001b[38;5;28;01mFalse\u001b[39;00m, outputFolder \u001b[38;5;241m=\u001b[39m \u001b[38;5;124m'\u001b[39m\u001b[38;5;124mC:\u001b[39m\u001b[38;5;124m\\\u001b[39m\u001b[38;5;124mCWatM_output\u001b[39m\u001b[38;5;124m'\u001b[39m, colourRange\u001b[38;5;241m=\u001b[39m\u001b[38;5;28;01mNone\u001b[39;00m, compare\u001b[38;5;241m=\u001b[39m\u001b[38;5;28;01mNone\u001b[39;00m):\n\u001b[0;32m      6\u001b[0m \n\u001b[0;32m      7\u001b[0m       \u001b[38;5;66;03m# The function displays the map of *var_name* on *day*.\u001b[39;00m\n\u001b[0;32m      8\u001b[0m       \u001b[38;5;66;03m# If day2 != None, this displayed the difference between *day* and *day2*.\u001b[39;00m\n\u001b[1;32m----> 9\u001b[0m     nc \u001b[38;5;241m=\u001b[39m \u001b[43mNetCDFFile\u001b[49m\u001b[43m(\u001b[49m\u001b[43moutputFolder\u001b[49m\u001b[43m \u001b[49m\u001b[38;5;241;43m+\u001b[39;49m\u001b[43m \u001b[49m\u001b[38;5;124;43m'\u001b[39;49m\u001b[38;5;124;43m/\u001b[39;49m\u001b[38;5;124;43m'\u001b[39;49m\u001b[38;5;241;43m+\u001b[39;49m\u001b[43mvar_name\u001b[49m\u001b[43m \u001b[49m\u001b[38;5;241;43m+\u001b[39;49m\u001b[43m \u001b[49m\u001b[38;5;124;43m'\u001b[39;49m\u001b[38;5;124;43m.nc\u001b[39;49m\u001b[38;5;124;43m'\u001b[39;49m\u001b[43m)\u001b[49m\n\u001b[0;32m     10\u001b[0m     lat \u001b[38;5;241m=\u001b[39m nc\u001b[38;5;241m.\u001b[39mvariables[\u001b[38;5;124m'\u001b[39m\u001b[38;5;124mlat\u001b[39m\u001b[38;5;124m'\u001b[39m][:]\n\u001b[0;32m     11\u001b[0m     lon \u001b[38;5;241m=\u001b[39m nc\u001b[38;5;241m.\u001b[39mvariables[\u001b[38;5;124m'\u001b[39m\u001b[38;5;124mlon\u001b[39m\u001b[38;5;124m'\u001b[39m][:]\n",
      "File \u001b[1;32msrc\\netCDF4\\_netCDF4.pyx:2463\u001b[0m, in \u001b[0;36mnetCDF4._netCDF4.Dataset.__init__\u001b[1;34m()\u001b[0m\n",
      "File \u001b[1;32msrc\\netCDF4\\_netCDF4.pyx:2026\u001b[0m, in \u001b[0;36mnetCDF4._netCDF4._ensure_nc_success\u001b[1;34m()\u001b[0m\n",
      "\u001b[1;31mFileNotFoundError\u001b[0m: [Errno 2] No such file or directory: b'P:/watmodel/CWATM/modelruns/norway_1km/output_MS/waterBodyID_totalend.nc'"
     ]
    }
   ],
   "source": [
    "display_map_noTime('waterBodyID_totalend',  -1, density=True, colourScale=\"agsunset\", Rad=3, dark=False, daySum = True, colourRange=[0,1], outputFolder = output_folder) #'C:\\CWatM_output' _Examples\\CWatM_output_06Sept_mswep') #)2.6) #colourScale='balance_r'"
   ]
  },
  {
   "cell_type": "code",
   "execution_count": null,
   "metadata": {
    "extensions": {
     "jupyter_dashboards": {
      "version": 1,
      "views": {
       "grid_default": {},
       "report_default": {
        "hidden": true
       }
      }
     }
    }
   },
   "outputs": [],
   "source": [
    "from netCDF4 import Dataset, num2date\n",
    "import plotly.graph_objects as go\n",
    "import numpy as np\n",
    "import datetime, os"
   ]
  },
  {
   "cell_type": "code",
   "execution_count": null,
   "metadata": {
    "extensions": {
     "jupyter_dashboards": {
      "version": 1,
      "views": {
       "grid_default": {},
       "report_default": {
        "hidden": true
       }
      }
     }
    }
   },
   "outputs": [],
   "source": [
    "Vars = [['lakeResStorage', 'Lake Level', 'Reservoir Volume', 'Volume (MCM)', 1000000.],\n",
    "        ['lakeResOutflowM', 'Spilling', 'Reservoir Outflow', 'metres', 1.], \n",
    "        ['lakeResInflowM', 'positive', 'Reservoir Inflow', 'metres', 1.]]\n",
    "\n",
    "        #['abstractedLakeReservoirM3', 'Abstractions', 'Abstractions', 'Volume (MCM)', 1000000.],\n",
    "        #['reservoir_transfers_net_M3', 'Reservoir transfers (net)','Reservoir transfers (net)', 'Volume (MCM)', 1000000.],\n",
    "        #['reservoir_transfers_to_outside_M3', 'Reservoir transfers to outside','Reservoir transfers to outside', 'Volume (MCM)', 1000000.],\n",
    "        #['reservoir_transfers_from_outside_M3', 'Reservoir transfers from outside','Reservoir transfers from outside', 'Volume (MCM)', 1000000.]]\n",
    "\n",
    "SIMULATED_nc = []\n",
    "for var in Vars:\n",
    "    reservoir_nc_filename = output_folder +'/'+ var[0] + '_daily.nc'\n",
    "    SIMULATED_nc.append(Dataset(reservoir_nc_filename, 'r'))"
   ]
  },
  {
   "cell_type": "code",
   "execution_count": null,
   "metadata": {
    "extensions": {
     "jupyter_dashboards": {
      "version": 1,
      "views": {
       "grid_default": {},
       "report_default": {
        "hidden": true
       }
      }
     }
    }
   },
   "outputs": [],
   "source": [
    "Dates_simulation = num2date(SIMULATED_nc[0].variables['time'][:], units=SIMULATED_nc[0].variables['time'].units)\n",
    "for t in range(len(Dates_simulation)):\n",
    "    Dates_simulation[t] = np.datetime64(Dates_simulation[t])"
   ]
  },
  {
   "cell_type": "code",
   "execution_count": null,
   "metadata": {},
   "outputs": [],
   "source": [
    "Volumes1 = Dataset(output_folder +'/resVolume_totalend.nc', 'r')\n",
    "Volume = Volumes1.variables['resVolume_totalend'][:,:]\n",
    "reservoirs = []\n",
    "\n",
    "for i in range(Volumes1.variables['lat'].shape[0]):\n",
    "    for j in range (Volumes1.variables['lon'].shape[0]):\n",
    "        if Volume[i,j] != 0:   \n",
    "            reservoirs.append([Volume[i,j], i, j])"
   ]
  },
  {
   "cell_type": "code",
   "execution_count": null,
   "metadata": {},
   "outputs": [],
   "source": [
    "Dams_all_names = [str(i[1])+', '+str(i[2]) for i in reservoirs]\n",
    "Dams_names = Dams_all_names\n",
    "Inds=[(i[1], i[2]) for i in reservoirs]"
   ]
  },
  {
   "cell_type": "code",
   "execution_count": null,
   "metadata": {
    "extensions": {
     "jupyter_dashboards": {
      "version": 1,
      "views": {
       "grid_default": {},
       "report_default": {
        "hidden": true
       }
      }
     }
    }
   },
   "outputs": [],
   "source": [
    "DAMS = []\n",
    "\n",
    "for i in range(len(Vars)): \n",
    "    Dams = []\n",
    "    for inds in Inds:\n",
    "        Dams.append(SIMULATED_nc[i].variables[Vars[i][0]][:,inds[0], inds[1]]/Vars[i][4])\n",
    "    DAMS.append(Dams)\n",
    "    "
   ]
  },
  {
   "cell_type": "code",
   "execution_count": null,
   "metadata": {
    "extensions": {
     "jupyter_dashboards": {
      "version": 1,
      "views": {
       "grid_default": {},
       "report_default": {
        "hidden": true
       }
      }
     }
    },
    "scrolled": false
   },
   "outputs": [],
   "source": [
    "for i in range(len(Vars)):\n",
    "    \n",
    "    fig = go.Figure()\n",
    "    Dams = DAMS[i]\n",
    "    \n",
    "    for dam_i in range(len(Dams)):\n",
    "        fig.add_trace(go.Scatter(y=Dams[dam_i],\n",
    "                                 x=Dates_simulation,\n",
    "                        mode='lines',\n",
    "                        name=Dams_names[dam_i]))\n",
    "\n",
    "\n",
    "    fig.update_layout(title = Vars[i][2] +', Simulated',\n",
    "                           xaxis_title='Days',\n",
    "                           yaxis_title= Vars[i][3],template='plotly_dark')\n",
    "\n",
    "    fig.show()"
   ]
  },
  {
   "cell_type": "markdown",
   "metadata": {},
   "source": [
    "## CWatM Outputs\n",
    "\n",
    "The following CWatM outputs (in *italics*) are suggested. All of these variables must be output to display the above figures. \n",
    "\n",
    "Output | Description\n",
    "--- | --- \n",
    "*lakeResInflowM* | Waterbody inflow (metres)\n",
    "*lakeResInflowDis* | Waterbody inflow ($m^3/s$)\n",
    "*EvapWaterBodyM* |  Waterbody evaporation (metres)\n",
    "*act_bigLakeResAbst*| Waterbody abstractions conveyed to cell (metres)\n",
    "*act_bigLakeResAbst_alloc* | Waterbody abstractions, from reservoirs \n",
    "*act_LocalLakeAbstractM3* | Basin transfer/local abstractions ($m^3$)\n",
    "*leakage*| Canal leakage (from reservoirs) ($m^3$)\n",
    "*lakeResOutflowM*| Waterbody outflow (metres)\n",
    "*lakeResInflowDis*| Waterbody outflow ($m^3/s$)\n",
    "*lakeResStorage*| Waterbody storage ($m^3$) "
   ]
  },
  {
   "cell_type": "markdown",
   "metadata": {
    "extensions": {
     "jupyter_dashboards": {
      "version": 1,
      "views": {
       "grid_default": {},
       "report_default": {
        "hidden": true
       }
      }
     }
    }
   },
   "source": [
    "## CWatM Inputs\n",
    "\n",
    "-**Reservoir_releases_input_file** holds three variables, *Downstream_release*, *Fraction_of_Volume*, and *Basin Transfer* each with 366 timesteps. Each holds the maximum fraction of avaiable reservoir storage that is available daily for either downstream releases, command area requests, or transfers out of the basin (essentially water that is consumed at the reservoir). Please refer to the example input file as well as the Waterbodies Excel stating the NetCDF input coordinate associated with each reservoir. \n",
    "\n",
    "-**waterBodyElec** is a map with the value 1 in cells representing reservoirs transferring water out of the basin. \n",
    "\n",
    "-**Water_conveyance_efficiency** is either a single value or a map representing the water conveyenace efficiencey of different reservoirs. This map is to be similar to the command areas map, and the efficiency of the reservoir is held in each cell of the associated command area. \n",
    "\n",
    "-**floodStorageLimit_JuneAndEarlier** is a value [0,1] such that above this fraction of reservoir volume, the reservoir relases water downstream, for the months January to June. \n",
    "\n",
    "-**floodStorageLimit_July**  is a value [0,1] such that above this fraction of reservoir volume, the reservoir relases water downstream, in July. \n",
    "\n",
    "-**floodStorageLimit_AugustAndLater** is a value [0,1] such that above this fraction of reservoir volume, the reservoir relases water downstream, for the months August to December.\n"
   ]
  },
  {
   "cell_type": "markdown",
   "metadata": {},
   "source": [
    "## Example\n",
    "\n",
    "Reservoir A has an *available storage* of 200 MCM on day 1. The variables *Downstream_release* and *Fraction_of_Volume* on day 1 both equal 0.01. \n",
    "\n",
    "\n",
    "The associated command area is 6 cells: 4 cells for the footprint of the reservoir, and 2 other cells, Cell 1 and Cell 2. Cell 1 requests 1 MCM from the reservoir, Cell 2 requests 3 MCM from the reservoir, and the footprint cells do not request water from the reservoir. \n",
    "\n",
    "Then, command area request = 4 MCM >= *available storage* * *Fraction_of_Volume* = 0.01 * 200 = 2 MCM. Therefore , 2MCM is allocated to satisfy command area requests. \n",
    "\n",
    "Then, *available storage* * *Fraction_of_Volume* / *command area request* = 50% of all command area requests are satisfied. Therefore, Cell 1 is given 0.5 MCM and Cell 2 is given 1.5 MCM.\n",
    "\n",
    "Reservoir A now has 198 MCM, and releases 198* *Downstream_release* = 198*0.01 = 1.98 MCM downstream.\n"
   ]
  },
  {
   "cell_type": "code",
   "execution_count": null,
   "metadata": {},
   "outputs": [],
   "source": []
  },
  {
   "cell_type": "code",
   "execution_count": null,
   "metadata": {},
   "outputs": [],
   "source": []
  },
  {
   "cell_type": "code",
   "execution_count": null,
   "metadata": {},
   "outputs": [],
   "source": []
  }
 ],
 "metadata": {
  "extensions": {
   "jupyter_dashboards": {
    "activeView": "report_default",
    "version": 1,
    "views": {
     "grid_default": {
      "name": "grid",
      "type": "grid"
     },
     "report_default": {
      "name": "report",
      "type": "report"
     }
    }
   }
  },
  "kernelspec": {
   "display_name": "Python 3 (ipykernel)",
   "language": "python",
   "name": "python3"
  },
  "language_info": {
   "codemirror_mode": {
    "name": "ipython",
    "version": 3
   },
   "file_extension": ".py",
   "mimetype": "text/x-python",
   "name": "python",
   "nbconvert_exporter": "python",
   "pygments_lexer": "ipython3",
   "version": "3.11.0"
  }
 },
 "nbformat": 4,
 "nbformat_minor": 2
}
